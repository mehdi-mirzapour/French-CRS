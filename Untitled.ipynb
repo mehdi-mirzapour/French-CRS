{
 "cells": [
  {
   "cell_type": "code",
   "execution_count": 3,
   "metadata": {},
   "outputs": [
    {
     "name": "stdout",
     "output_type": "stream",
     "text": [
      "# French Coreference Resolution System\n",
      "French-CRS is a machine-learning based NLP framework for coreference resolution in French language. It is already trained using 25 syntactic/morphological features derived from ANCOR a French Oral Corpus. French-CRS has already pre-trained language models and it is ready to be incorporated for French text. It internaly uses other systems for mention and named entity detections. French-CRS is planned to be enriched by semantic features. This will let it be fitted for other tasks such as nomination detection in social media context.\n",
      "\n",
      "## Installing French-CRS\n",
      "French-CRS requires Python 3.6.1 or above and it calls internally following framework:  \n",
      "\n",
      "1- ÚFAL UDPipe.  \n",
      "2- spaCy for French Named Entitiy Detection.  \n",
      "3- CAREN (Coréférence par Application de RÉseaux de Neurones) for French mention detection.  \n",
      "4- JupyterLab Notebook (optional)  \n",
      "\n",
      "Quick installation guide:\n",
      "```\n",
      "  $ git clone https://github.com/mehdi-mirzapour/French-CRS\n",
      "  $ cd French-CRS\n",
      "  $ pip install -r requirements.txt\n",
      "  $ python -m spacy download fr_core_news_md\n",
      "  $ Jupyter notebook\n",
      "```\n",
      "\n",
      "## Running a pre-trained model pipelines in jupyter notebook\n",
      "The jupyter notebook \"/demo/Text2CoreferenceChains.ipynb\" describes all the essential steps. This file can be opened via Jupyter notebook and it demonstrates a walkthough with a runnnng example.  \n",
      "\n",
      "## Running a pre-trained model pipelines in command line\n",
      "The jupyter notebook \"/demo/Text2CoreferenceChains.ipynb\" describes all the essential steps. This file can be opened via Jupyter notebook and it demonstrates a walkthough with a runnnng example. \n",
      "\n",
      "## Training a new model in jupyter notebook\n",
      "The jupyter notebook \"/demo/Model_ANCOR_Training.ipynb\" describes all the essential steps. This file can be opened via Jupyter notebook and it demonstrates different possible strategies for training new models. \n",
      "\n",
      "## Downloading ANCOR and training with it\n",
      "ANCOR can be downloaded here:  http://www.info.univ-tours.fr/~antoine/parole_publique/  \n",
      "\n",
      "Notice: Downloading ANCOR corpus is not mandatory for running the CRS system. Pre-trained models are already introduced in the \"pre-trained language models\" folder. The jupyter notebook \"/demo/Text2CoreferenceChains.ipynb\" also describes how to actually integrate them.\n",
      "\n",
      "## Citations\n",
      "```bibtex\n",
      "@inproceedings{desoyer2016coreference,\n",
      "  title={Coreference Resolution for French Oral Data: Machine Learning Experiments with ANCOR},\n",
      "  author={D{\\'e}soyer, Ad{\\`e}le and Landragin, Fr{\\'e}d{\\'e}ric and Tellier, Isabelle and Lefeuvre, Ana{\\\"\\i}s and Antoine, Jean-Yves and Dinarelli, Marco},\n",
      "  booktitle={International Conference on Intelligent Text Processing and Computational Linguistics},\n",
      "  pages={507--519},\n",
      "  year={2016},\n",
      "  organization={Springer}\n",
      "}\n",
      "```\n",
      "\n",
      "```bibtex\n",
      "@inproceedings{muzerelle:hal-01075679,\n",
      "  TITLE = {{ANCOR\\_Centre, a Large Free Spoken French Coreference Corpus:  description of the Resource and Reliability Measures}},\n",
      "  AUTHOR = {Muzerelle, Judith and Lefeuvre, Ana{\\\"i}s and Schang, Emmanuel and Antoine, Jean-Yves and Pelletier, Aurore and Maurel, Denis and Eshkol, Iris and Villaneau, Jeanne},\n",
      "  BOOKTITLE = {{LREC'2014, 9th Language Resources and Evaluation Conference.}},\n",
      "  PAGES = {843-847},\n",
      "  YEAR = {2014}\n",
      "}\n",
      "```\n",
      "\n",
      "### License\n",
      "French-CRS is MIT-licensed, as found in the LICENSE file.\n",
      "\n"
     ]
    }
   ],
   "source": [
    "from pathlib import Path\n",
    "\n",
    "data_folder = Path(\"./\")\n",
    "\n",
    "file_to_open = data_folder / \"README.md\"\n",
    "\n",
    "f = open(file_to_open)\n",
    "\n",
    "print(f.read())"
   ]
  },
  {
   "cell_type": "code",
   "execution_count": 4,
   "metadata": {},
   "outputs": [
    {
     "ename": "NameError",
     "evalue": "name '__file__' is not defined",
     "output_type": "error",
     "traceback": [
      "\u001b[0;31m---------------------------------------------------------------------------\u001b[0m",
      "\u001b[0;31mNameError\u001b[0m                                 Traceback (most recent call last)",
      "\u001b[0;32m<ipython-input-4-31af6962ba06>\u001b[0m in \u001b[0;36m<module>\u001b[0;34m\u001b[0m\n\u001b[1;32m      1\u001b[0m \u001b[0;32mfrom\u001b[0m \u001b[0mos\u001b[0m \u001b[0;32mimport\u001b[0m \u001b[0mpath\u001b[0m\u001b[0;34m\u001b[0m\u001b[0;34m\u001b[0m\u001b[0m\n\u001b[1;32m      2\u001b[0m \u001b[0;34m\u001b[0m\u001b[0m\n\u001b[0;32m----> 3\u001b[0;31m \u001b[0mhere\u001b[0m \u001b[0;34m=\u001b[0m \u001b[0mpath\u001b[0m\u001b[0;34m.\u001b[0m\u001b[0mabspath\u001b[0m\u001b[0;34m(\u001b[0m\u001b[0mpath\u001b[0m\u001b[0;34m.\u001b[0m\u001b[0mdirname\u001b[0m\u001b[0;34m(\u001b[0m\u001b[0m__file__\u001b[0m\u001b[0;34m)\u001b[0m\u001b[0;34m)\u001b[0m\u001b[0;34m\u001b[0m\u001b[0;34m\u001b[0m\u001b[0m\n\u001b[0m",
      "\u001b[0;31mNameError\u001b[0m: name '__file__' is not defined"
     ]
    }
   ],
   "source": [
    "from os import path\n",
    "\n",
    "here = path.abspath(path.dirname(__file__))"
   ]
  },
  {
   "cell_type": "code",
   "execution_count": null,
   "metadata": {},
   "outputs": [],
   "source": []
  }
 ],
 "metadata": {
  "kernelspec": {
   "display_name": "Python 3",
   "language": "python",
   "name": "python3"
  },
  "language_info": {
   "codemirror_mode": {
    "name": "ipython",
    "version": 3
   },
   "file_extension": ".py",
   "mimetype": "text/x-python",
   "name": "python",
   "nbconvert_exporter": "python",
   "pygments_lexer": "ipython3",
   "version": "3.7.7"
  }
 },
 "nbformat": 4,
 "nbformat_minor": 4
}
