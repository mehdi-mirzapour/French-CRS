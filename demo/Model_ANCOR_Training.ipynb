{
 "cells": [
  {
   "cell_type": "markdown",
   "metadata": {},
   "source": [
    "# Building ANCOR Dataset"
   ]
  },
  {
   "cell_type": "code",
   "execution_count": null,
   "metadata": {},
   "outputs": [],
   "source": [
    "from french_crs.ancor2dataset import dataset_builder\n",
    "\n",
    "\n",
    "for method in [\"balanced\", \"representative\", \"window\"]:\n",
    "    for subcorpus in [[\"INDIRECTE\"],[\"DIRECTE\"],[\"ANAPHORE\"]]:\n",
    "        dataset_params={\n",
    "            # There are other three possible strategies: (1)\"balanced\", (2)\"representative\" and (3)\"window\"\n",
    "            \"strategy\" : method,\n",
    "            \"ancor_corpus_path\" : \"../DISTRIB_ANCOR/\",\n",
    "            # All possibilities are: [\"corpus_OTG\",\"corpus_UBS\",\"corpus_ESLO\" ,\"corpus_ESLO_CO2\"]\n",
    "            \"sub_corpus_filter\" : [\"corpus_OTG\",\"corpus_UBS\",\"corpus_ESLO\" ,\"corpus_ESLO_CO2\"], \n",
    "            # All possibilities are: [\"DIRECTE\", \"INDIRECTE\", \"ANAPHORE\"]\n",
    "            \"coreference_type_filter\" : subcorpus, \n",
    "            \"dataset_output_folder\" : \"../datasets/\",\n",
    "            # This will be used only in window strategy\n",
    "            \"window_size\" : 5 \n",
    "        }\n",
    "\n",
    "        dataset = dataset_builder(**dataset_params)\n",
    "        dataset.build_dataset(file_analysis_alert=True)\n",
    "        dataset.merge_dataset(delete_original_after_merge=False)"
   ]
  },
  {
   "cell_type": "markdown",
   "metadata": {},
   "source": [
    "# Dataset Splitting"
   ]
  },
  {
   "cell_type": "code",
   "execution_count": null,
   "metadata": {},
   "outputs": [],
   "source": [
    "# Two ways of Training: (1) commented codes down with parameter.\n",
    "#                       (2) uncommented with mentioned explicity the config file.\n",
    "\n",
    "from french_crs.model_training import dataset_splitter\n",
    "\n",
    "# ds1=dataset_splitter(\"../datasets/balanced_Full/balanced_Full_Merged.xlsx\",\n",
    "#                     \"../datasets/balanced_Full/balanced_Full_Train.xlsx\",\n",
    "#                     \"../datasets/balanced_Full/balanced_Full__Test.xlsx\",\n",
    "#                       split_config_json=\"../datasets/split_config.json\")\n",
    "\n",
    "# ds1.dataset_splitter_by_file(lower_rate=0.20,upper_rate=0.21, files_num=30)\n",
    "\n",
    "\n",
    "ds2=dataset_splitter(\"../datasets/window_INDIRECTE/window_INDIRECTE_Merged.xlsx\",\n",
    "                    \"../datasets/window_INDIRECTE/window_INDIRECTE_Train.xlsx\",\n",
    "                    \"../datasets/window_INDIRECTE/window_INDIRECTE_Test.xlsx\",\n",
    "                      split_config_json=\"../datasets/split_config.json\")\n",
    "\n",
    "dict_files=ds2.dataset_splitter_by_json_config()\n"
   ]
  },
  {
   "cell_type": "markdown",
   "metadata": {},
   "source": [
    "# Model Training"
   ]
  },
  {
   "cell_type": "code",
   "execution_count": null,
   "metadata": {},
   "outputs": [],
   "source": [
    "from model_training import model_trainer\n",
    "\n",
    "model=model_trainer( \"./ds_window_all/corpus_ANCOR_Window_ANAPHORE_Train.xlsx\",\n",
    "                     \"./ds_window_5/corpus_ANCOR_Window_5_Test.xlsx\",\n",
    "                     \"./ds_window_all/corpus_ANCOR_Window_Full_ANAPHORE_over_Test_Pred.xlsx\",\n",
    "                     \"IS_CO_REF\",\n",
    "                     \"IS_CO_REF\"\n",
    "                   )\n",
    "\n",
    "model.columns_drop_list = ['m1_DEF', 'm2_DEF', 'ID_DEF',\n",
    "                           'DISTANCE_MENTION','DISTANCE_WORD',\n",
    "                           'DISTANCE_CHAR']\n",
    "\n",
    "model.convert_columns_to_numeric()\n",
    "model.train_model_random_forest(model_name=\"./Optimized_Models/Random_Forest_ANCOR_Window_ANAPHORE.model\",max_depth=10, random_state=0,n_estimators=250)"
   ]
  },
  {
   "cell_type": "markdown",
   "metadata": {},
   "source": [
    "# Model Testing"
   ]
  },
  {
   "cell_type": "code",
   "execution_count": null,
   "metadata": {},
   "outputs": [],
   "source": [
    "from model_training import model_tester\n",
    "\n",
    "model_parameter={\n",
    "                \"model_name\" : \"./Models/Random_Forest_(Normal)_OTG_Neg_90_Pos_10.model\",\n",
    "                \"input_file\" : \"./Datasets/corpus_ALL_Window_30_Test.xlsx\",\n",
    "                \"output_file\" : \"./Datasets/corpus_ALL_Window_30_Test_Called_Seperately.xlsx\",\n",
    "                \"column_gold\" : \"IS_CO_REF\",\n",
    "                \"column_outcome\" : \"Prediction\",\n",
    "                \"threshold\" : 0.5\n",
    "                }\n",
    "\n",
    "model=model_tester(**model_parameter)\n",
    "model.apply_model_to_dataset()"
   ]
  }
 ],
 "metadata": {
  "kernelspec": {
   "display_name": "Python 3",
   "language": "python",
   "name": "python3"
  },
  "language_info": {
   "codemirror_mode": {
    "name": "ipython",
    "version": 3
   },
   "file_extension": ".py",
   "mimetype": "text/x-python",
   "name": "python",
   "nbconvert_exporter": "python",
   "pygments_lexer": "ipython3",
   "version": "3.7.2"
  }
 },
 "nbformat": 4,
 "nbformat_minor": 4
}
