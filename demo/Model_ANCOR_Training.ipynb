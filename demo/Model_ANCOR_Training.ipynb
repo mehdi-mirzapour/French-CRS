{
 "cells": [
  {
   "cell_type": "markdown",
   "metadata": {},
   "source": [
    "# Building ANCOR Dataset"
   ]
  },
  {
   "cell_type": "code",
   "execution_count": null,
   "metadata": {},
   "outputs": [],
   "source": [
    "from french_crs.ancor2dataset import dataset_builder\n",
    "\n",
    "# Do-able with two nested loops\n",
    "# for method in [\"balanced\", \"representative\", \"window\"]:\n",
    "#     for subcorpus in [[\"INDIRECTE\"],[\"DIRECTE\"],[\"ANAPHORE\"]]:\n",
    "\n",
    "dataset_params={\n",
    "    # There are other three possible strategies: (1)\"balanced\", (2)\"representative\" and (3)\"window\"\n",
    "    \"strategy\" : \"balanced,\n",
    "    \"ancor_corpus_path\" : \"../DISTRIB_ANCOR/\",\n",
    "    # All possibilities are: [\"corpus_OTG\",\"corpus_UBS\",\"corpus_ESLO\" ,\"corpus_ESLO_CO2\"]\n",
    "    \"sub_corpus_filter\" : [\"corpus_OTG\",\"corpus_UBS\",\"corpus_ESLO\" ,\"corpus_ESLO_CO2\"], \n",
    "    # All possibilities are: [\"DIRECTE\", \"INDIRECTE\", \"ANAPHORE\"]\n",
    "    \"coreference_type_filter\" : [\"DIRECTE\"], \n",
    "    \"dataset_output_folder\" : \"../datasets/\",\n",
    "    # This will be used only in window strategy\n",
    "    \"window_size\" : 5 \n",
    "}\n",
    "\n",
    "dataset = dataset_builder(**dataset_params)\n",
    "dataset.build_dataset(file_analysis_alert=True)\n",
    "dataset.merge_dataset(delete_original_after_merge=False)"
   ]
  },
  {
   "cell_type": "markdown",
   "metadata": {},
   "source": [
    "# Dataset Splitting"
   ]
  },
  {
   "cell_type": "code",
   "execution_count": null,
   "metadata": {},
   "outputs": [],
   "source": [
    "# Two ways of Training: (1) commented codes down with parameter.\n",
    "#                       (2) uncommented with mentioned explicity the config file.\n",
    "\n",
    "from french_crs.model_training import dataset_splitter\n",
    "\n",
    "# ds1=dataset_splitter(\"../datasets/balanced_Full/balanced_Full_Merged.xlsx\",\n",
    "#                     \"../datasets/balanced_Full/balanced_Full_Train.xlsx\",\n",
    "#                     \"../datasets/balanced_Full/balanced_Full__Test.xlsx\",\n",
    "#                       split_config_json=\"../datasets/split_config.json\")\n",
    "\n",
    "# ds1.dataset_splitter_by_file(lower_rate=0.20,upper_rate=0.21, files_num=30)\n",
    "\n",
    "\n",
    "ds2=dataset_splitter(\"../datasets/window_INDIRECTE/window_INDIRECTE_Merged.xlsx\",\n",
    "                    \"../datasets/window_INDIRECTE/window_INDIRECTE_Train.xlsx\",\n",
    "                    \"../datasets/window_INDIRECTE/window_INDIRECTE_Test.xlsx\",\n",
    "                      split_config_json=\"../datasets/split_config.json\")\n",
    "\n",
    "dict_files=ds2.dataset_splitter_by_json_config()\n"
   ]
  },
  {
   "cell_type": "markdown",
   "metadata": {},
   "source": [
    "# Model Training"
   ]
  },
  {
   "cell_type": "code",
   "execution_count": 43,
   "metadata": {},
   "outputs": [
    {
     "name": "stdout",
     "output_type": "stream",
     "text": [
      "Model_Name : balanced_INDIRECTE.model\n",
      "\n",
      "Train Dataset : balanced_INDIRECTE_Train.xlsx\n",
      "Test  Dataset : representative_INDIRECTE_Train.xlsx\n"
     ]
    },
    {
     "data": {
      "text/plain": [
       "{'precision_score_pos': 0.37110481586402266,\n",
       " 'recall_score_pos': 0.8791946308724832,\n",
       " 'f1_score_pos': 0.5219123505976095,\n",
       " 'precision_score_neg': 0.9849624060150376,\n",
       " 'recall_score_neg': 0.841541755888651,\n",
       " 'f1_score_neg': 0.9076212471131639}"
      ]
     },
     "execution_count": 43,
     "metadata": {},
     "output_type": "execute_result"
    }
   ],
   "source": [
    "from french_crs.model_training import model_trainer\n",
    "\n",
    "\"\"\"\n",
    "12 possibilities for \"train\" and \"test\" variables\n",
    "\n",
    "balanced_ANAPHORE\n",
    "balanced_DIRECTE\n",
    "balanced_Full\n",
    "balanced_INDIRECTE\n",
    "representative_ANAPHORE\n",
    "representative_DIRECTE\n",
    "representative_Full\n",
    "representative_INDIRECTE\n",
    "window_ANAPHORE\n",
    "window_DIRECTE\n",
    "window_Full\n",
    "window_INDIRECTE\n",
    "\"\"\"\n",
    "\n",
    "train=\"balanced_INDIRECTE\"\n",
    "test=\"representative_INDIRECTE\"\n",
    "\n",
    "model=model_trainer( \"../datasets/\"+ train+\"/\"+train+\"_Train.xlsx\",\n",
    "                     \"../datasets/\"+ test+\"/\"+test+\"_Test.xlsx\",\n",
    "                     \"../datasets/\"+ train+\"/\"+train+\"_Test_Pred.xlsx\",\n",
    "                     \"IS_CO_REF\",\n",
    "                     \"IS_CO_REF\"\n",
    "                   )\n",
    "\n",
    "model.columns_drop_list = ['m1_DEF', 'm2_DEF', 'ID_DEF',\n",
    "                           'DISTANCE_MENTION','DISTANCE_WORD',\n",
    "                           'DISTANCE_CHAR']\n",
    "\n",
    "model.convert_columns_to_numeric()\n",
    "print(\"Model_Name :\",train+\".model\\n\")\n",
    "print(\"Train Dataset :\",train+\"_Train.xlsx\")\n",
    "print(\"Test  Dataset :\",test+\"_Train.xlsx\")\n",
    "model.train_model_random_forest(model_name=\"../pre-trained language models/Model_ANCOR_\"+train+\".model\",max_depth=10, random_state=0,n_estimators=250)"
   ]
  },
  {
   "cell_type": "markdown",
   "metadata": {},
   "source": [
    "# SCORCH Chains Building"
   ]
  },
  {
   "cell_type": "code",
   "execution_count": 37,
   "metadata": {},
   "outputs": [
    {
     "name": "stdout",
     "output_type": "stream",
     "text": [
      "SCORCH json formats saved at following addresses:\n",
      "/Users/mehdi.mirzapour/French-CRS/coref_chains_gold.json\n",
      "/Users/mehdi.mirzapour/French-CRS/coref_chains_pred.json\n"
     ]
    }
   ],
   "source": [
    "from french_crs.pairs2chains import chains_builder\n",
    "\n",
    "model_chains=chains_builder(path_gold_file=\"../datasets/\"+ train+\"/\"+train+\"_Test_Pred.xlsx\", \n",
    "                            path_model_file=\"../datasets/\"+ train+\"/\"+train+\"_Test_Pred.xlsx\",\n",
    "                            gold_column=\"IS_CO_REF\",\n",
    "                            model_column=\"Prediction\",\n",
    "                            scorch_output_path=\"../\",\n",
    "                            threshold=0.5)\n",
    "\n",
    "model_chains.generate_gold_model_json_output(mode=\"train\")\n",
    "os.popen('echo Returned output')"
   ]
  },
  {
   "cell_type": "markdown",
   "metadata": {},
   "source": [
    "# SCORCH Outcome"
   ]
  },
  {
   "cell_type": "code",
   "execution_count": 93,
   "metadata": {},
   "outputs": [
    {
     "name": "stdout",
     "output_type": "stream",
     "text": [
      "MUC:\tR=0.8196010407632264\tP=0.8931947069943289\tF₁=0.8548168249660787\n",
      "B³:\tR=0.7818069604042842\tP=0.8504910598059741\tF₁=0.8147039597980739\n",
      "CEAF_m:\tR=0.7387440758293838\tP=0.8280212483399735\tF₁=0.7808390732623669\n",
      "CEAF_e:\tR=0.6954840434955073\tP=0.830544560870751\tF₁=0.7570375651477038\n",
      "BLANC:\tR=0.697837406779154\tP=0.8307640432084871\tF₁=0.7577377208853988\n",
      "CoNLL-2012 average score: 0.8088527833039522\n",
      "\n"
     ]
    }
   ],
   "source": [
    "import os\n",
    "bashCommand = \"scorch coref_chains_gold.json coref_chains_pred.json > ../mm.txt\"\n",
    "os.system(bashCommand)\n",
    "f = open(\"../mm.txt\",'r')\n",
    "message = f.read()\n",
    "print(message)"
   ]
  },
  {
   "cell_type": "markdown",
   "metadata": {},
   "source": [
    "#  Model Testing"
   ]
  },
  {
   "cell_type": "code",
   "execution_count": null,
   "metadata": {},
   "outputs": [],
   "source": [
    "from model_training import model_tester\n",
    "\n",
    "model_parameter={\n",
    "                \"model_name\" : \"./Models/Random_Forest_(Normal)_OTG_Neg_90_Pos_10.model\",\n",
    "                \"input_file\" : \"./Datasets/corpus_ALL_Window_30_Test.xlsx\",\n",
    "                \"output_file\" : \"./Datasets/corpus_ALL_Window_30_Test_Called_Seperately.xlsx\",\n",
    "                \"column_gold\" : \"IS_CO_REF\",\n",
    "                \"column_outcome\" : \"Prediction\",\n",
    "                \"threshold\" : 0.5\n",
    "                }\n",
    "\n",
    "model=model_tester(**model_parameter)\n",
    "model.apply_model_to_dataset()"
   ]
  },
  {
   "cell_type": "code",
   "execution_count": null,
   "metadata": {},
   "outputs": [],
   "source": []
  }
 ],
 "metadata": {
  "kernelspec": {
   "display_name": "Python 3",
   "language": "python",
   "name": "python3"
  },
  "language_info": {
   "codemirror_mode": {
    "name": "ipython",
    "version": 3
   },
   "file_extension": ".py",
   "mimetype": "text/x-python",
   "name": "python",
   "nbconvert_exporter": "python",
   "pygments_lexer": "ipython3",
   "version": "3.7.2"
  }
 },
 "nbformat": 4,
 "nbformat_minor": 4
}
