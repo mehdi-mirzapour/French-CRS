{
 "cells": [
  {
   "cell_type": "markdown",
   "metadata": {},
   "source": [
    "# Building ANCOR Dataset"
   ]
  },
  {
   "cell_type": "code",
   "execution_count": null,
   "metadata": {},
   "outputs": [],
   "source": [
    "from french_crs.ancor2dataset import dataset_builder\n",
    "\n",
    "# Do-able with two nested loops\n",
    "# for method in [\"balanced\", \"representative\", \"window\"]:\n",
    "#     for subcorpus in [[\"INDIRECTE\"],[\"DIRECTE\"],[\"ANAPHORE\"]]:\n",
    "\n",
    "dataset_params={\n",
    "    # There are other three possible strategies: (1)\"balanced\", (2)\"representative\" and (3)\"window\"\n",
    "    \"strategy\" : \"balanced,\n",
    "    \"ancor_corpus_path\" : \"../DISTRIB_ANCOR/\",\n",
    "    # All possibilities are: [\"corpus_OTG\",\"corpus_UBS\",\"corpus_ESLO\" ,\"corpus_ESLO_CO2\"]\n",
    "    \"sub_corpus_filter\" : [\"corpus_OTG\",\"corpus_UBS\",\"corpus_ESLO\" ,\"corpus_ESLO_CO2\"], \n",
    "    # All possibilities are: [\"DIRECTE\", \"INDIRECTE\", \"ANAPHORE\"]\n",
    "    \"coreference_type_filter\" : [\"DIRECTE\"], \n",
    "    \"dataset_output_folder\" : \"../datasets/\",\n",
    "    # This will be used only in window strategy\n",
    "    \"window_size\" : 5 \n",
    "}\n",
    "\n",
    "dataset = dataset_builder(**dataset_params)\n",
    "dataset.build_dataset(file_analysis_alert=True)\n",
    "dataset.merge_dataset(delete_original_after_merge=False)"
   ]
  },
  {
   "cell_type": "markdown",
   "metadata": {},
   "source": [
    "# Dataset Splitting"
   ]
  },
  {
   "cell_type": "code",
   "execution_count": null,
   "metadata": {},
   "outputs": [],
   "source": [
    "# Two ways of Training: (1) commented codes down with parameter.\n",
    "#                       (2) uncommented with mentioned explicity the config file.\n",
    "\n",
    "from french_crs.model_training import dataset_splitter\n",
    "\n",
    "# ds1=dataset_splitter(\"../datasets/balanced_Full/balanced_Full_Merged.xlsx\",\n",
    "#                     \"../datasets/balanced_Full/balanced_Full_Train.xlsx\",\n",
    "#                     \"../datasets/balanced_Full/balanced_Full__Test.xlsx\",\n",
    "#                       split_config_json=\"../datasets/split_config.json\")\n",
    "\n",
    "# ds1.dataset_splitter_by_file(lower_rate=0.20,upper_rate=0.21, files_num=30)\n",
    "\n",
    "\n",
    "ds2=dataset_splitter(\"../datasets/window_INDIRECTE/window_INDIRECTE_Merged.xlsx\",\n",
    "                    \"../datasets/window_INDIRECTE/window_INDIRECTE_Train.xlsx\",\n",
    "                    \"../datasets/window_INDIRECTE/window_INDIRECTE_Test.xlsx\",\n",
    "                      split_config_json=\"../datasets/split_config.json\")\n",
    "\n",
    "dict_files=ds2.dataset_splitter_by_json_config()\n"
   ]
  },
  {
   "cell_type": "markdown",
   "metadata": {},
   "source": [
    "# Model Training"
   ]
  },
  {
   "cell_type": "code",
   "execution_count": null,
   "metadata": {},
   "outputs": [],
   "source": [
    "from french_crs.model_training import model_trainer\n",
    "\n",
    "\"\"\"\n",
    "12 possibilities for \"train\" and \"test\" variables\n",
    "\n",
    "balanced_ANAPHORE\n",
    "balanced_DIRECTE\n",
    "balanced_Full\n",
    "balanced_INDIRECTE\n",
    "representative_ANAPHORE\n",
    "representative_DIRECTE\n",
    "representative_Full\n",
    "representative_INDIRECTE\n",
    "window_ANAPHORE\n",
    "window_DIRECTE\n",
    "window_Full\n",
    "window_INDIRECTE\n",
    "\"\"\"\n",
    "\n",
    "train=\"balanced_DIRECTE\"\n",
    "test=\"balanced_DIRECTE\"\n",
    "\n",
    "model=model_trainer( \"../datasets/\"+ train+\"/\"+train+\"_Train.xlsx\",\n",
    "                     \"../datasets/\"+ test+\"/\"+test+\"_Test.xlsx\",\n",
    "                     \"../datasets/\"+ train+\"/\"+train+\"_Test_Pred.xlsx\",\n",
    "                     \"IS_CO_REF\",\n",
    "                     \"IS_CO_REF\"\n",
    "                   )\n",
    "\n",
    "model.columns_drop_list = ['m1_DEF', 'm2_DEF', 'ID_DEF',\n",
    "                           'DISTANCE_MENTION','DISTANCE_WORD',\n",
    "                           'DISTANCE_CHAR']\n",
    "\n",
    "model.convert_columns_to_numeric()\n",
    "print(\"Model_Name :\",\"Model_ANCOR_\"+train+\".model\\n\")\n",
    "print(\"Train Dataset :\",train+\"_Train.xlsx\")\n",
    "print(\"Test  Dataset :\",test+\"_Test.xlsx\")\n",
    "performance=model.train_model_random_forest(model_name=\"../pre-trained language models/Model_ANCOR_\"+train+\".model\",max_depth=10, random_state=0,n_estimators=250)\n",
    "performance"
   ]
  },
  {
   "cell_type": "markdown",
   "metadata": {},
   "source": [
    "# SCORCH Chains Building"
   ]
  },
  {
   "cell_type": "code",
   "execution_count": null,
   "metadata": {},
   "outputs": [],
   "source": [
    "from french_crs.pairs2chains import chains_builder\n",
    "\n",
    "model_chains=chains_builder(path_gold_file=\"../datasets/\"+ train+\"/\"+train+\"_Test_Pred.xlsx\", \n",
    "                            path_model_file=\"../datasets/\"+ train+\"/\"+train+\"_Test_Pred.xlsx\",\n",
    "                            gold_column=\"IS_CO_REF\",\n",
    "                            model_column=\"Prediction\",\n",
    "                            scorch_output_path=\"../\",\n",
    "                            threshold=0.5)\n",
    "\n",
    "model_chains.generate_gold_model_json_output(mode=\"train\")"
   ]
  },
  {
   "cell_type": "markdown",
   "metadata": {},
   "source": [
    "# SCORCH Outcome"
   ]
  },
  {
   "cell_type": "code",
   "execution_count": null,
   "metadata": {},
   "outputs": [],
   "source": [
    "import os\n",
    "bashCommand = \"scorch ../coref_chains_gold.json ../coref_chains_pred.json > ../mm.txt\"\n",
    "os.system(bashCommand)\n",
    "f = open(\"../mm.txt\",'r')\n",
    "message = f.read()\n",
    "print(message)"
   ]
  },
  {
   "cell_type": "markdown",
   "metadata": {},
   "source": [
    "# Putting All Chains Together"
   ]
  },
  {
   "cell_type": "code",
   "execution_count": null,
   "metadata": {},
   "outputs": [],
   "source": [
    "import docx\n",
    "import os\n",
    "from french_crs.model_training import model_trainer\n",
    "from french_crs.pairs2chains import chains_builder\n",
    "\n",
    "mydoc = docx.Document()\n",
    "\n",
    "style = mydoc.styles['Normal']\n",
    "font = style.font\n",
    "font.name = 'MS Gothic'\n",
    "font.size = docx.shared.Pt(10)\n",
    "\n",
    "\n",
    "train_test_list=[\n",
    "    \"balanced_ANAPHORE\",\n",
    "    \"balanced_DIRECTE\",\n",
    "    \"balanced_Full\",\n",
    "    \"balanced_INDIRECTE\",\n",
    "    \"representative_ANAPHORE\",\n",
    "    \"representative_DIRECTE\",\n",
    "    \"representative_Full\",\n",
    "    \"representative_INDIRECTE\",\n",
    "    \"window_ANAPHORE\",\n",
    "    \"window_DIRECTE\",\n",
    "    \"window_Full\",\n",
    "    \"window_INDIRECTE\"\n",
    "    ]\n",
    "\n",
    "train_test_list=[\n",
    "    [\"balanced_ANAPHORE\",\"window_ANAPHORE\"],\n",
    "    [\"balanced_DIRECTE\",\"window_DIRECTE\"],\n",
    "    [\"balanced_Full\",\"window_Full\"],\n",
    "    [\"balanced_INDIRECTE\",\"window_INDIRECTE\"],\n",
    "    [\"representative_ANAPHORE\",\"window_ANAPHORE\"],\n",
    "    [\"representative_DIRECTE\",\"window_DIRECTE\"],\n",
    "    [\"representative_Full\",\"window_Full\"],\n",
    "    [\"representative_INDIRECTE\",\"window_INDIRECTE\"],\n",
    "    [\"window_ANAPHORE\",\"window_ANAPHORE\"],\n",
    "    [\"window_DIRECTE\",\"window_DIRECTE\"],\n",
    "    [\"window_Full\",\"window_Full\"],\n",
    "    [\"window_INDIRECTE\",\"window_INDIRECTE\"]\n",
    "    ]\n",
    "\n",
    "counter=0\n",
    "\n",
    "# for train in train_test_list:\n",
    "#     for test in train_test_list:\n",
    "\n",
    "for train, test in train_test_list:\n",
    "    counter+=1\n",
    "\n",
    "    model=model_trainer( \"../datasets/\"+ train+\"/\"+train+\"_Train.xlsx\",\n",
    "                 \"../datasets/\"+ test+\"/\"+test+\"_Test.xlsx\",\n",
    "                 \"../datasets/\"+ train+\"/\"+train+\"_Test_Pred.xlsx\",\n",
    "                 \"IS_CO_REF\",\n",
    "                 \"IS_CO_REF\"\n",
    "               )\n",
    "\n",
    "    model.columns_drop_list = ['m1_DEF', 'm2_DEF', 'ID_DEF',\n",
    "                               'DISTANCE_MENTION','DISTANCE_WORD',\n",
    "                               'DISTANCE_CHAR']\n",
    "\n",
    "    model.convert_columns_to_numeric()\n",
    "    performance=model.train_model_random_forest(model_name=\"../pre-trained language models/Model_ANCOR_\"+train+\".model\",max_depth=10, random_state=0,n_estimators=250)\n",
    "\n",
    "\n",
    "    model_chains=chains_builder(path_gold_file=\"../datasets/\"+ train+\"/\"+train+\"_Test_Pred.xlsx\", \n",
    "                        path_model_file=\"../datasets/\"+ train+\"/\"+train+\"_Test_Pred.xlsx\",\n",
    "                        gold_column=\"IS_CO_REF\",\n",
    "                        model_column=\"Prediction\",\n",
    "                        scorch_output_path=\"../\",\n",
    "                        threshold=0.5)\n",
    "\n",
    "    model_chains.generate_gold_model_json_output(mode=\"train\")\n",
    "\n",
    "\n",
    "    bashCommand = \"scorch ../coref_chains_gold.json ../coref_chains_pred.json > ../mehdi.txt\"\n",
    "    os.system(bashCommand)\n",
    "    f = open(\"../mehdi.txt\",'r')\n",
    "    message = f.read()\n",
    "    f.close()\n",
    "\n",
    "\n",
    "    mydoc.add_paragraph(\"Model_Name : \"+\"Model_ANCOR_\"+train+\".model\")\n",
    "    mydoc.add_paragraph(\"Train Dataset : \"+train+\"_Train.xlsx\")\n",
    "    mydoc.add_paragraph(\"Test  Dataset : \"+test+\"_Test.xlsx\")\n",
    "    mydoc.add_paragraph(\"\\n\")\n",
    "    mydoc.add_paragraph(str(performance))\n",
    "    mydoc.add_paragraph(\"\\n\")\n",
    "    mydoc.add_paragraph(message)\n",
    "    mydoc.add_page_break()\n",
    "\n",
    "    print(counter)\n",
    "\n",
    "\n",
    "mydoc.save(\"../pre-trained language models/Performance Analysis.docx\")"
   ]
  },
  {
   "cell_type": "markdown",
   "metadata": {},
   "source": [
    "#  Model Testing"
   ]
  },
  {
   "cell_type": "code",
   "execution_count": null,
   "metadata": {},
   "outputs": [],
   "source": [
    "from model_training import model_tester\n",
    "\n",
    "model_parameter={\n",
    "                \"model_name\" : \"./Models/Random_Forest_(Normal)_OTG_Neg_90_Pos_10.model\",\n",
    "                \"input_file\" : \"./Datasets/corpus_ALL_Window_30_Test.xlsx\",\n",
    "                \"output_file\" : \"./Datasets/corpus_ALL_Window_30_Test_Called_Seperately.xlsx\",\n",
    "                \"column_gold\" : \"IS_CO_REF\",\n",
    "                \"column_outcome\" : \"Prediction\",\n",
    "                \"threshold\" : 0.5\n",
    "                }\n",
    "\n",
    "model=model_tester(**model_parameter)\n",
    "model.apply_model_to_dataset()"
   ]
  },
  {
   "cell_type": "code",
   "execution_count": null,
   "metadata": {},
   "outputs": [],
   "source": []
  }
 ],
 "metadata": {
  "kernelspec": {
   "display_name": "Python 3",
   "language": "python",
   "name": "python3"
  },
  "language_info": {
   "codemirror_mode": {
    "name": "ipython",
    "version": 3
   },
   "file_extension": ".py",
   "mimetype": "text/x-python",
   "name": "python",
   "nbconvert_exporter": "python",
   "pygments_lexer": "ipython3",
   "version": "3.7.2"
  }
 },
 "nbformat": 4,
 "nbformat_minor": 4
}
