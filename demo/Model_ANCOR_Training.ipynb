{
 "cells": [
  {
   "cell_type": "markdown",
   "metadata": {},
   "source": [
    "# Creating General ANCOR Dataset"
   ]
  },
  {
   "cell_type": "code",
   "execution_count": null,
   "metadata": {},
   "outputs": [],
   "source": [
    "from ancor2dataset import chains2excel\n",
    "import glob\n",
    "import pandas as pd\n",
    "\n",
    "PATH_ANCOR=\"../../DISTRIB_ANCOR/\"\n",
    "SUB_CORPRA=[\"corpus_OTG\",\"corpus_UBS\",\"corpus_ESLO\" ,\"corpus_ESLO_CO2\"]\n",
    "\n",
    "for SUB_CORPUS in SUB_CORPRA:\n",
    "\n",
    "    PATH_ANCOR_SUB_CORPUS=PATH_ANCOR+SUB_CORPUS+'/'\n",
    "\n",
    "    corpus_files=[file[file.rfind(\"/\")+1:-4] for file in glob.glob(PATH_ANCOR_SUB_CORPUS+\"annotation_integree/*.xml\")]\n",
    "\n",
    "    \n",
    "    list_dataframes=[]\n",
    "\n",
    "\n",
    "    for file in corpus_files:\n",
    "\n",
    "        dataset = chains2excel(PATH_ANCOR)\n",
    "        print(\"Starting\",file)\n",
    "        dataset.set_file_config(SUB_CORPUS, file)\n",
    "        dataset.generate_json_mentions()\n",
    "        dataset.remove_empty_json_mentions()\n",
    "        dataset.generate_json_relations()\n",
    "        if dataset.json_relations=={}:\n",
    "            continue\n",
    "        dataset.generate_json_chains(coreference_type=[\"ANAPHORE\"]) #\"DIRECTE\", \"INDIRECTE\", \n",
    "#         dataset.generate_pos_neg_pairs(neg_pairs_percentage=0.95,\n",
    "#                                  strategy=\"normal\")\n",
    "\n",
    "        dataset.generate_pos_neg_pairs(strategy = \"pairs_from_left_with_window_size\", window_size=20)\n",
    "    \n",
    "        dataset.extend_with_order_pos_neg_pairs()\n",
    "        dataset.generate_training_test_dataset(save_files=False)\n",
    "\n",
    "\n",
    "        list_dataframes.append(dataset.coreference_pairs_dataframe)\n",
    "\n",
    "\n",
    "    train_test_dataframe=pd.concat(list_dataframes,ignore_index=True)\n",
    "    train_test_dataframe.to_excel(\"./ds_window_all/\"+SUB_CORPUS+\"_ds_window_20_ANAPHORE.xlsx\")\n"
   ]
  },
  {
   "cell_type": "markdown",
   "metadata": {},
   "source": [
    "# Dataset Splitting"
   ]
  },
  {
   "cell_type": "code",
   "execution_count": null,
   "metadata": {},
   "outputs": [],
   "source": [
    "from model_training import dataset_splitter\n",
    "\n",
    "# ds1=dataset_splitter(\"./ds_90_10_new/corpus_ANCOR_N90_P10.xlsx\",\n",
    "#                     \"./ds_90_10_new/corpus_ANCOR_N90_P10_Train.xlsx\",\n",
    "#                     \"./ds_90_10_new/corpus_ANCOR_N90_P10_Test.xlsx\")\n",
    "\n",
    "ds2=dataset_splitter(\"./ds_window_15/corpus_ANCOR_Window_5.xlsx\",\n",
    "                    \"./ds_window_15/corpus_ANCOR_Window_5_Train.xlsx\",\n",
    "                   \"./ds_window_15/corpus_ANCOR_Window_5_Test.xlsx\")\n",
    "\n",
    "# dict_files=ds1.dataset_splitter_by_file(sub_corpus_num=4, lower_rate=0.20,upper_rate=0.22, files_num=84)\n",
    "dict_files=ds2.dataset_splitter_by_dict(dict_files[\"sub_corpus_files_train\"],dict_files[\"sub_corpus_files_test\"])\n"
   ]
  },
  {
   "cell_type": "markdown",
   "metadata": {},
   "source": [
    "# Model Training"
   ]
  },
  {
   "cell_type": "code",
   "execution_count": null,
   "metadata": {},
   "outputs": [],
   "source": [
    "from model_training import model_trainer\n",
    "\n",
    "model=model_trainer( \"./ds_window_all/corpus_ANCOR_Window_ANAPHORE_Train.xlsx\",\n",
    "                     \"./ds_window_5/corpus_ANCOR_Window_5_Test.xlsx\",\n",
    "                     \"./ds_window_all/corpus_ANCOR_Window_Full_ANAPHORE_over_Test_Pred.xlsx\",\n",
    "                     \"IS_CO_REF\",\n",
    "                     \"IS_CO_REF\"\n",
    "                   )\n",
    "\n",
    "model.columns_drop_list = ['m1_DEF', 'm2_DEF', 'ID_DEF',\n",
    "                           'DISTANCE_MENTION','DISTANCE_WORD',\n",
    "                           'DISTANCE_CHAR']\n",
    "\n",
    "model.convert_columns_to_numeric()\n",
    "model.train_model_random_forest(model_name=\"./Optimized_Models/Random_Forest_ANCOR_Window_ANAPHORE.model\",max_depth=10, random_state=0,n_estimators=250)"
   ]
  },
  {
   "cell_type": "markdown",
   "metadata": {},
   "source": [
    "# Model Testing"
   ]
  },
  {
   "cell_type": "code",
   "execution_count": null,
   "metadata": {},
   "outputs": [],
   "source": [
    "from model_training import model_tester\n",
    "\n",
    "model_parameter={\n",
    "                \"model_name\" : \"./Models/Random_Forest_(Normal)_OTG_Neg_90_Pos_10.model\",\n",
    "                \"input_file\" : \"./Datasets/corpus_ALL_Window_30_Test.xlsx\",\n",
    "                \"output_file\" : \"./Datasets/corpus_ALL_Window_30_Test_Called_Seperately.xlsx\",\n",
    "                \"column_gold\" : \"IS_CO_REF\",\n",
    "                \"column_outcome\" : \"Prediction\",\n",
    "                \"threshold\" : 0.5\n",
    "                }\n",
    "\n",
    "model=model_tester(**model_parameter)\n",
    "model.apply_model_to_dataset()"
   ]
  }
 ],
 "metadata": {
  "kernelspec": {
   "display_name": "Python 3",
   "language": "python",
   "name": "python3"
  },
  "language_info": {
   "codemirror_mode": {
    "name": "ipython",
    "version": 3
   },
   "file_extension": ".py",
   "mimetype": "text/x-python",
   "name": "python",
   "nbconvert_exporter": "python",
   "pygments_lexer": "ipython3",
   "version": "3.7.2"
  }
 },
 "nbformat": 4,
 "nbformat_minor": 4
}
